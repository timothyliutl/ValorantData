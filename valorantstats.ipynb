{
 "cells": [
  {
   "cell_type": "markdown",
   "metadata": {},
   "source": [
    "# Goals\n",
    "* Predict Results of Pro matches with 70% accuracy\n",
    "\n",
    "### Data that will be used\n",
    "* match data and maps"
   ]
  },
  {
   "cell_type": "code",
   "execution_count": 67,
   "metadata": {},
   "outputs": [],
   "source": [
    "import pandas as pd\n",
    "import seaborn as sns\n",
    "import numpy as np\n",
    "import glob\n",
    "\n",
    "#combines all the csvs into one table\n",
    "list_of_csv_files = glob.glob(\"copy of datasets\" + \"/*.csv\")\n",
    "list_of_csv_files.sort()\n",
    "df = pd.concat(map(pd.read_csv, list_of_csv_files), ignore_index=True)"
   ]
  },
  {
   "cell_type": "markdown",
   "metadata": {},
   "source": [
    "### First round pistol\n",
    "* Finding correlation between winning pistol rounds and winning the map"
   ]
  },
  {
   "cell_type": "code",
   "execution_count": 73,
   "metadata": {},
   "outputs": [
    {
     "name": "stdout",
     "output_type": "stream",
     "text": [
      "Champions Tour North America Stage 1: Challengers 1 0.6428571428571429\n",
      "Champions Tour North America Stage 1: Challengers 2 0.35714285714285715\n",
      "Champions Tour North America Stage 1: Challengers 3 0.582089552238806\n",
      "Champions Tour North America Stage 1: Masters 0.42857142857142855\n",
      "Champions Tour North America Stage 2: Challengers 1 0.42857142857142855\n",
      "Champions Tour North America Stage 2: Challengers 2 0.6428571428571429\n",
      "Champions Tour North America Stage 2: Challengers Finals 0.42857142857142855\n",
      "Champions Tour North America Stage 3: Challengers 1 0.21428571428571427\n",
      "Champions Tour North America Stage 3: Challengers 2 0.7142857142857143\n",
      "Champions Tour North America Stage 3: Challengers Playoffs 0.7142857142857143\n",
      "Champions Tour North America: Last Chance Qualifier 0.2857142857142857\n"
     ]
    }
   ],
   "source": [
    "#correlation between first round pistols and winning\n",
    "event_names = df['event'].unique()\n",
    "event_names.sort()\n",
    "for name in event_names:\n",
    "    if \"North America\" in name:\n",
    "        total_rounds = ((df['round']==1)&(df['event']==name)).sum()\n",
    "        first_pistol = ((df['round']==1)&(df['winningTeamRound']!=0)&(df['event']==name)).sum()\n",
    "        print(name, first_pistol/total_rounds)\n",
    "\n",
    "\n"
   ]
  },
  {
   "cell_type": "code",
   "execution_count": 76,
   "metadata": {},
   "outputs": [
    {
     "name": "stdout",
     "output_type": "stream",
     "text": [
      "Total Average 0.5079455164585698\n"
     ]
    }
   ],
   "source": [
    "total_rounds_won = ((df['round']==1)&(df['winningTeamRound']!=0)).sum()\n",
    "total_rounds = ((df['round']==1)).sum()\n",
    "print(\"Total Average\", total_rounds_won/total_rounds)"
   ]
  },
  {
   "cell_type": "markdown",
   "metadata": {},
   "source": [
    "Doesn't look like overall pistols are too important\n",
    "\n",
    "Here we'll search if pistol rounds are more important in certain maps than others"
   ]
  },
  {
   "cell_type": "code",
   "execution_count": 79,
   "metadata": {},
   "outputs": [
    {
     "name": "stdout",
     "output_type": "stream",
     "text": [
      "Breeze 0.5061728395061729\n",
      "Bind 0.4908616187989556\n",
      "Icebox 0.5277777777777778\n",
      "Ascent 0.48735632183908045\n",
      "Haven 0.5191740412979351\n",
      "Split 0.5333333333333333\n",
      "Fracture 0.5\n"
     ]
    }
   ],
   "source": [
    "maps = df['map'].unique()\n",
    "for map in maps:\n",
    "    total_rounds = ((df['round']==1)&(df['map']==map)).sum()\n",
    "    first_pistol = ((df['round']==1)&(df['winningTeamRound']!=0)&(df['map']==map)).sum()\n",
    "    print(map, first_pistol/total_rounds)\n",
    "    "
   ]
  },
  {
   "cell_type": "code",
   "execution_count": null,
   "metadata": {},
   "outputs": [],
   "source": []
  }
 ],
 "metadata": {
  "interpreter": {
   "hash": "aee8b7b246df8f9039afb4144a1f6fd8d2ca17a180786b69acc140d282b71a49"
  },
  "kernelspec": {
   "display_name": "Python 3.9.1 64-bit",
   "language": "python",
   "name": "python3"
  },
  "language_info": {
   "codemirror_mode": {
    "name": "ipython",
    "version": 3
   },
   "file_extension": ".py",
   "mimetype": "text/x-python",
   "name": "python",
   "nbconvert_exporter": "python",
   "pygments_lexer": "ipython3",
   "version": "3.9.1"
  },
  "orig_nbformat": 4
 },
 "nbformat": 4,
 "nbformat_minor": 2
}
