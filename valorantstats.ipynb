{
 "cells": [
  {
   "cell_type": "markdown",
   "metadata": {},
   "source": [
    "# Goals\n",
    "* Predict Results of Pro matches with 70% accuracy\n",
    "\n",
    "### Data that will be used\n",
    "* match data and maps"
   ]
  },
  {
   "cell_type": "code",
   "execution_count": 3,
   "metadata": {},
   "outputs": [],
   "source": [
    "import pandas as pd\n",
    "import seaborn as sns\n",
    "import numpy as np\n",
    "\n",
    "\n",
    "data = pd.read_csv('scrapy/vlrgg/playerData/vlr.csv')"
   ]
  },
  {
   "cell_type": "markdown",
   "metadata": {},
   "source": [
    "Refining the data so the players can be one hot encoded"
   ]
  },
  {
   "cell_type": "code",
   "execution_count": null,
   "metadata": {},
   "outputs": [],
   "source": [
    "#resorting data so that it is indexed by game\n",
    "#can skip this step with csv file\n",
    "refined_data = pd.DataFrame()\n",
    "\n",
    "for match in data['matchID'].unique():\n",
    "    map_names = data[data['matchID']==match]['map'].unique()\n",
    "    for map_name in map_names:\n",
    "        match_data = data[(data['matchID']==match)&(data['map']==map_name)]\n",
    "        if len(match_data.index)!=10:\n",
    "            #disregard incomplete games or games with less than 10 players\n",
    "            print('Error: skipping incomplete match data')\n",
    "            continue\n",
    "        teams = match_data['playerTeam'].unique()\n",
    "        try:\n",
    "            team1players = match_data[match_data['playerTeam']==teams[0]]['playerName'].unique()\n",
    "            team2players = match_data[match_data['playerTeam']==teams[1]]['playerName'].unique()\n",
    "        except:\n",
    "            print(\"Error: empty teams\")\n",
    "        try:\n",
    "            refined_data =  refined_data.append(\n",
    "                {'player1':team1players[0],\n",
    "                'player2':team1players[1],\n",
    "                'player3':team1players[2],\n",
    "                'player4':team1players[3],\n",
    "                'player5':team1players[4],\n",
    "                'team': teams[0],\n",
    "                'o_team': teams[1],\n",
    "                'o_player1':team2players[0],\n",
    "                'o_player2':team2players[1],\n",
    "                'o_player3':team2players[2],\n",
    "                'o_player4':team2players[3],\n",
    "                'o_player5':team2players[4],\n",
    "                'player1_agent':match_data[match_data['playerName']==team1players[0]]['playerAgent'].values[0],\n",
    "                'player2_agent':match_data[match_data['playerName']==team1players[1]]['playerAgent'].values[0],\n",
    "                'player3_agent':match_data[match_data['playerName']==team1players[2]]['playerAgent'].values[0],\n",
    "                'player4_agent':match_data[match_data['playerName']==team1players[3]]['playerAgent'].values[0],\n",
    "                'player5_agent':match_data[match_data['playerName']==team1players[4]]['playerAgent'].values[0],\n",
    "                'o_player1_agent':match_data[match_data['playerName']==team2players[0]]['playerAgent'].values[0],\n",
    "                'o_player2_agent':match_data[match_data['playerName']==team2players[1]]['playerAgent'].values[0],\n",
    "                'o_player3_agent':match_data[match_data['playerName']==team2players[2]]['playerAgent'].values[0],\n",
    "                'o_player4_agent':match_data[match_data['playerName']==team2players[3]]['playerAgent'].values[0],\n",
    "                'o_player5_agent':match_data[match_data['playerName']==team2players[4]]['playerAgent'].values[0],\n",
    "                'map': map_name,\n",
    "                'result': match_data[match_data['playerName']==team1players[0]]['result'].values[0],\n",
    "                'date': match_data[match_data['playerName']==team1players[0]]['date'].values[0]\n",
    "                }, ignore_index=True)\n",
    "        except:\n",
    "            print(\"Error: skipping weird data\")\n",
    "refined_data.to_csv('refined.csv')\n",
    "\n"
   ]
  },
  {
   "cell_type": "markdown",
   "metadata": {},
   "source": [
    "### Creating the model\n",
    "Using logistic regression to predict wins (for the first iteration)\n",
    "\n",
    "Inputs for this model will include:\n",
    "* 5 Players on team\n",
    "* 5 Players on opponent team\n",
    "* Agents each player is on\n",
    "* Map"
   ]
  },
  {
   "cell_type": "code",
   "execution_count": 53,
   "metadata": {},
   "outputs": [
    {
     "data": {
      "text/plain": [
       "LogisticRegression(penalty='none')"
      ]
     },
     "execution_count": 53,
     "metadata": {},
     "output_type": "execute_result"
    }
   ],
   "source": [
    "from sklearn.linear_model import LogisticRegression\n",
    "from sklearn.model_selection import train_test_split\n",
    "\n",
    "csv_data = pd.read_csv('refined.csv')\n",
    "used_columns = csv_data.columns.tolist()\n",
    "used_columns.remove('date')\n",
    "used_columns.remove('result')\n",
    "used_columns.remove('Unnamed: 0')\n",
    "\n",
    "X_data = pd.get_dummies(csv_data[used_columns]).to_numpy()\n",
    "y_data = pd.get_dummies(csv_data['result'])['Win'].to_numpy()\n",
    "\n",
    "\n",
    "X_train, X_test, y_train, y_test = train_test_split(X_data,y_data,test_size=0.25,random_state=69)\n",
    "\n",
    "clf = LogisticRegression(penalty=\"none\")\n",
    "clf.fit(X_train, y_train)\n",
    "\n"
   ]
  },
  {
   "cell_type": "code",
   "execution_count": 54,
   "metadata": {},
   "outputs": [
    {
     "name": "stdout",
     "output_type": "stream",
     "text": [
      "[[1519  381]\n",
      " [ 505 1051]]\n",
      "0.7436342592592593\n"
     ]
    }
   ],
   "source": [
    "from sklearn.metrics import confusion_matrix, accuracy_score\n",
    "y_pred = clf.predict(X_test)\n",
    "print(confusion_matrix(y_pred=y_pred, y_true=y_test))\n",
    "print(accuracy_score(y_pred=y_pred, y_true=y_test))"
   ]
  },
  {
   "cell_type": "markdown",
   "metadata": {},
   "source": [
    "Baseline Predictions for the upcoming VCTs"
   ]
  },
  {
   "cell_type": "code",
   "execution_count": null,
   "metadata": {},
   "outputs": [],
   "source": [
    "#find games and make predictions here\n",
    "#and figure out how to vectorize all the player names"
   ]
  },
  {
   "cell_type": "markdown",
   "metadata": {},
   "source": [
    "Initial model gives a good baseline of 70-75% accuracy, but this purely uses categorical data. More data could be considered such as\n",
    "* Player's kda average from the past 5 games on that agent (if information is available)\n",
    "* Twitter sentiment before the game starts (graph this correlation first)\n",
    "\n",
    "This will introduce more numerical data in here, which can be graphed, making it easier to see correlations"
   ]
  },
  {
   "cell_type": "code",
   "execution_count": 49,
   "metadata": {},
   "outputs": [
    {
     "data": {
      "text/plain": [
       "array([1, 1, 1, ..., 0, 1, 0], dtype=uint8)"
      ]
     },
     "execution_count": 49,
     "metadata": {},
     "output_type": "execute_result"
    }
   ],
   "source": []
  },
  {
   "cell_type": "code",
   "execution_count": null,
   "metadata": {},
   "outputs": [],
   "source": []
  }
 ],
 "metadata": {
  "interpreter": {
   "hash": "aee8b7b246df8f9039afb4144a1f6fd8d2ca17a180786b69acc140d282b71a49"
  },
  "kernelspec": {
   "display_name": "Python 3.9.1 64-bit",
   "language": "python",
   "name": "python3"
  },
  "language_info": {
   "codemirror_mode": {
    "name": "ipython",
    "version": 3
   },
   "file_extension": ".py",
   "mimetype": "text/x-python",
   "name": "python",
   "nbconvert_exporter": "python",
   "pygments_lexer": "ipython3",
   "version": "3.9.1"
  },
  "orig_nbformat": 4
 },
 "nbformat": 4,
 "nbformat_minor": 2
}
