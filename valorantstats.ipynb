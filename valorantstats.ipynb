{
 "cells": [
  {
   "cell_type": "markdown",
   "metadata": {},
   "source": [
    "# Goals\n",
    "* Predict Results of Pro matches with 70% accuracy\n",
    "\n",
    "### Data that will be used\n",
    "* match data and maps"
   ]
  },
  {
   "cell_type": "code",
   "execution_count": 58,
   "metadata": {},
   "outputs": [],
   "source": [
    "import pandas as pd\n",
    "import seaborn as sns\n",
    "import numpy as np\n",
    "import glob\n",
    "\n",
    "#combines all the csvs into one table\n",
    "list_of_csv_files = glob.glob(\"copy of datasets\" + \"/*.csv\")\n",
    "list_of_csv_files.sort()\n",
    "df = pd.concat(map(pd.read_csv, list_of_csv_files), ignore_index=True)"
   ]
  },
  {
   "cell_type": "markdown",
   "metadata": {},
   "source": [
    "### First round pistol\n",
    "* Finding correlation between winning pistol rounds and winning the map"
   ]
  },
  {
   "cell_type": "code",
   "execution_count": 59,
   "metadata": {},
   "outputs": [
    {
     "name": "stdout",
     "output_type": "stream",
     "text": [
      "Valorant Champions 0.5357142857142857\n",
      "Valorant Champions 0.4444444444444444\n",
      "Valorant Champions 0.6111111111111112\n"
     ]
    }
   ],
   "source": [
    "#correlation between first round pistols and winning\n",
    "event_names = df['event'].unique()\n",
    "for name in event_names:\n",
    "    total_rounds = ((df['round']==1)&(df['event']==name)).sum()\n",
    "    first_pistol = ((df['round']==1)&(df['winningTeamRound']!=0)&(df['event']==name)).sum()\n",
    "    print(\"Valorant Champions\", first_pistol/total_rounds)\n",
    "\n",
    "\n"
   ]
  },
  {
   "cell_type": "code",
   "execution_count": null,
   "metadata": {},
   "outputs": [],
   "source": []
  },
  {
   "cell_type": "markdown",
   "metadata": {},
   "source": []
  }
 ],
 "metadata": {
  "interpreter": {
   "hash": "aee8b7b246df8f9039afb4144a1f6fd8d2ca17a180786b69acc140d282b71a49"
  },
  "kernelspec": {
   "display_name": "Python 3.9.1 64-bit",
   "language": "python",
   "name": "python3"
  },
  "language_info": {
   "codemirror_mode": {
    "name": "ipython",
    "version": 3
   },
   "file_extension": ".py",
   "mimetype": "text/x-python",
   "name": "python",
   "nbconvert_exporter": "python",
   "pygments_lexer": "ipython3",
   "version": "3.9.1"
  },
  "orig_nbformat": 4
 },
 "nbformat": 4,
 "nbformat_minor": 2
}
