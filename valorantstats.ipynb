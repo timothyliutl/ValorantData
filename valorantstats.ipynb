{
 "cells": [
  {
   "cell_type": "markdown",
   "metadata": {},
   "source": [
    "# Goals\n",
    "* Predict Results of Pro matches with 70% accuracy\n",
    "\n",
    "### Data that will be used\n",
    "* match data and maps"
   ]
  },
  {
   "cell_type": "code",
   "execution_count": 1,
   "metadata": {},
   "outputs": [],
   "source": [
    "import pandas as pd\n",
    "import seaborn as sns\n",
    "import numpy as np\n",
    "\n",
    "\n",
    "data = pd.read_csv('scrapy/vlrgg/playerData/vlr.csv')"
   ]
  },
  {
   "cell_type": "markdown",
   "metadata": {},
   "source": [
    "### Creating the baseline model\n",
    "Using logistic regression to predict wins (for the first iteration)\n",
    "\n",
    "Inputs for this model will include:\n",
    "* 5 Players on team\n",
    "* 5 Players on opponent team\n",
    "* Agents each player is on\n",
    "* Map"
   ]
  },
  {
   "cell_type": "code",
   "execution_count": 2,
   "metadata": {},
   "outputs": [
    {
     "data": {
      "text/plain": [
       "LogisticRegression(penalty='none')"
      ]
     },
     "execution_count": 2,
     "metadata": {},
     "output_type": "execute_result"
    }
   ],
   "source": [
    "from sklearn.linear_model import LogisticRegression\n",
    "from sklearn.model_selection import train_test_split\n",
    "\n",
    "csv_data = pd.read_csv('refined.csv')\n",
    "used_columns = csv_data.columns.tolist()\n",
    "used_columns.remove('date')\n",
    "used_columns.remove('result')\n",
    "used_columns.remove('Unnamed: 0')\n",
    "\n",
    "X_data = pd.get_dummies(csv_data[used_columns]).to_numpy()\n",
    "y_data = pd.get_dummies(csv_data['result'])['Win'].to_numpy()\n",
    "\n",
    "\n",
    "X_train, X_test, y_train, y_test = train_test_split(X_data,y_data,test_size=0.25,random_state=69)\n",
    "\n",
    "clf = LogisticRegression(penalty=\"none\")\n",
    "clf.fit(X_train, y_train)\n",
    "\n"
   ]
  },
  {
   "cell_type": "code",
   "execution_count": 3,
   "metadata": {},
   "outputs": [
    {
     "name": "stdout",
     "output_type": "stream",
     "text": [
      "[[1509  392]\n",
      " [ 526 1029]]\n",
      "0.734375\n"
     ]
    }
   ],
   "source": [
    "from sklearn.metrics import confusion_matrix, accuracy_score\n",
    "y_pred = clf.predict(X_test)\n",
    "print(confusion_matrix(y_pred=y_pred, y_true=y_test))\n",
    "print(accuracy_score(y_pred=y_pred, y_true=y_test))"
   ]
  },
  {
   "cell_type": "markdown",
   "metadata": {},
   "source": [
    "Baseline Predictions for the upcoming VCTs"
   ]
  },
  {
   "cell_type": "code",
   "execution_count": null,
   "metadata": {},
   "outputs": [],
   "source": [
    "#find games and make predictions here\n",
    "#and figure out how to vectorize all the player names"
   ]
  },
  {
   "cell_type": "markdown",
   "metadata": {},
   "source": [
    "Initial model gives a good baseline of 70-75% accuracy, but this purely uses categorical data. More data could be considered such as\n",
    "* Player's kda moving average from the past 5 games (if information is available)\n",
    "* disregard the player names\n",
    "* Twitter sentiment before the game starts (graph this correlation first)\n",
    "\n",
    "This will introduce more numerical data in here, which can be graphed, making it easier to see correlations.\n",
    "Also using a moving average to adjust for the fact that the game is constantly being updated and metas are changing."
   ]
  },
  {
   "cell_type": "markdown",
   "metadata": {},
   "source": [
    "### Another iteration of Logistic Regression\n",
    "This time more numbers will be used rather than just purely using categorical data"
   ]
  },
  {
   "cell_type": "code",
   "execution_count": 4,
   "metadata": {},
   "outputs": [],
   "source": [
    "newData = pd.read_csv('movingAverage.csv')"
   ]
  },
  {
   "cell_type": "markdown",
   "metadata": {},
   "source": [
    "#### Visualization of data\n",
    "\n",
    "Graph of team average kill death ratio and win rate"
   ]
  },
  {
   "cell_type": "code",
   "execution_count": null,
   "metadata": {},
   "outputs": [],
   "source": []
  }
 ],
 "metadata": {
  "interpreter": {
   "hash": "aee8b7b246df8f9039afb4144a1f6fd8d2ca17a180786b69acc140d282b71a49"
  },
  "kernelspec": {
   "display_name": "Python 3.9.1 64-bit",
   "language": "python",
   "name": "python3"
  },
  "language_info": {
   "codemirror_mode": {
    "name": "ipython",
    "version": 3
   },
   "file_extension": ".py",
   "mimetype": "text/x-python",
   "name": "python",
   "nbconvert_exporter": "python",
   "pygments_lexer": "ipython3",
   "version": "3.9.1"
  },
  "orig_nbformat": 4
 },
 "nbformat": 4,
 "nbformat_minor": 2
}
