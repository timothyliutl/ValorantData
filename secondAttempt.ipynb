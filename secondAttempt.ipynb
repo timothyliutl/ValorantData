{
 "cells": [
  {
   "cell_type": "markdown",
   "metadata": {},
   "source": [
    "# Valorant VCT Predictions\n",
    "\n",
    "## Backstory\n",
    "The first file I was able to create a model that can predict with up to 70% accuracy. Since then I learned quite a bit about data analytics and figured it would be easier to start fresh when training my next models.\n",
    "\n",
    "Goal for this file is to get up to 80% accuracy and I will try to explore different models outside of logistic regression."
   ]
  },
  {
   "cell_type": "markdown",
   "metadata": {},
   "source": []
  }
 ],
 "metadata": {
  "language_info": {
   "name": "python"
  },
  "orig_nbformat": 4
 },
 "nbformat": 4,
 "nbformat_minor": 2
}
